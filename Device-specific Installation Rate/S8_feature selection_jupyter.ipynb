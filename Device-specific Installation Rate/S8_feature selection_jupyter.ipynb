{
 "cells": [
  {
   "cell_type": "code",
   "execution_count": 1,
   "metadata": {
    "collapsed": false
   },
   "outputs": [
    {
     "name": "stdout",
     "output_type": "stream",
     "text": [
      "Total number of devices for all device models: 56865\n",
      "Total number of devices with selected app installed: 38291\n",
      "Weighted average installation rate: 0.673\n"
     ]
    }
   ],
   "source": [
    "## Script Index: S8\n",
    "## Author: Liu Yue\n",
    "## Date: 13/10/2016\n",
    "## Python Version: Anaconda 4.2.0, python 3.5\n",
    "\n",
    "\n",
    "\"\"\"\n",
    "    This script runs feature selections from 511 subsets \n",
    "    CAUTION: It takes a long time for running this script\n",
    "\"\"\"\n",
    "\n",
    "\n",
    "\"\"\" Load and describe dataset\"\"\"\n",
    "import csv\n",
    "import copy\n",
    "import math\n",
    "## Read device_model_details\n",
    "with open('S6_device model details.csv', newline='',encoding='utf-8') as f:\n",
    "    file = csv.reader(f)\n",
    "    device_model_details = list(file)\n",
    "    \n",
    "for line in device_model_details:\n",
    "    numeric_index = {1,2,3,4,5,6,7,8,9,12,13}\n",
    "    for i in numeric_index:\n",
    "        line[i] = float(line[i])\n",
    "        if int(str(line[i]).split('.')[1])==0:\n",
    "            line[i] = int(line[i])\n",
    "lst = device_model_details\n",
    "\n",
    "lst2 =  copy.deepcopy(lst)\n",
    "total_device_count = sum(line[12] for line in lst2)\n",
    "print(\"Total number of devices for all device models:\",total_device_count)\n",
    "total_app_device_count = sum(line[13] for line in lst2)\n",
    "print(\"Total number of devices with selected app installed:\",total_app_device_count)\n",
    "standard_rate = total_app_device_count/total_device_count\n",
    "print(\"Weighted average installation rate:\", round(standard_rate,3))"
   ]
  },
  {
   "cell_type": "code",
   "execution_count": 2,
   "metadata": {
    "collapsed": true
   },
   "outputs": [],
   "source": [
    "\"\"\" Obtain the superset of attributes\"\"\"\n",
    "from itertools import combinations, chain\n",
    "allsubsets = lambda n: list(chain(*[combinations(range(n), ni) for ni in range(n+1)]))\n",
    "all_subsets = sorted(allsubsets(9), key=lambda line:len(line), reverse=True)"
   ]
  },
  {
   "cell_type": "code",
   "execution_count": 3,
   "metadata": {
    "collapsed": true
   },
   "outputs": [],
   "source": [
    "\"\"\" Methods \"\"\"\n",
    "import math\n",
    "import heapq\n",
    "from scipy import spatial\n",
    "\n",
    "def merge_device_models(lst):\n",
    "    \"\"\" Method to check device models with the same attributes and merge\"\"\"\n",
    "    for line in lst:\n",
    "        device_model_name = line[0]\n",
    "        for line2 in lst:\n",
    "            device_model_name2 = line2[0]\n",
    "            if device_model_name!=device_model_name2 and line[1]==line2[1]:\n",
    "                line[0] = device_model_name + device_model_name2\n",
    "                line[2] = [line[2][0]+line2[2][0], line[2][1]+line2[2][1]]\n",
    "                lst.remove(line2)\n",
    "    lst = sorted(lst, key=lambda line:line[2][0],reverse=True) \n",
    "\n",
    "def append_installation_rate(lst):\n",
    "    \"\"\" Method to add average and actual installation rate\"\"\"\n",
    "    for line in lst:\n",
    "        installation_rate = line[2][1]/line[2][0]\n",
    "        line.append([round(standard_rate,3),round(installation_rate,3)])\n",
    "        \n",
    "def rmse_using_average(lst):\n",
    "    squared_error_average = 0\n",
    "    for line in lst:\n",
    "        average = line[3][0]\n",
    "        actual = line[3][1]\n",
    "        squared_error_average += (average-actual)*(average-actual)\n",
    "    return(math.sqrt(squared_error_average/len(lst)))\n",
    "\n",
    "def similarity_computation(lst):\n",
    "    \"\"\" Compute all similarity for all divice models \"\"\"\n",
    "    sim_mat = []\n",
    "    for line in lst:\n",
    "        sim_line = []\n",
    "        for line2 in lst:\n",
    "            sim = 1 - spatial.distance.cosine(line[1], line2[1])\n",
    "            sim_line.append(sim)\n",
    "        sim_mat.append(sim_line)\n",
    "    return(sim_mat)\n",
    "\n",
    "def rmse_calculation(lst, prediction_index):\n",
    "    \"\"\" Method to check the prediction error \"\"\"\n",
    "    count = 0\n",
    "    squared_error_prediction = 0\n",
    "    for line in lst:\n",
    "        average = line[3][0]\n",
    "        actual = line[3][1]\n",
    "        prediction = line[3][prediction_index+2]\n",
    "        squared_error_prediction += (prediction-actual)*(prediction-actual)\n",
    "        if abs(prediction-actual) < abs(average-actual):\n",
    "            count+=1\n",
    "    return(math.sqrt(squared_error_prediction/len(lst)))\n",
    "\n",
    "def rmse_different_n(lst,sim_mat,attribute_set):\n",
    "    prediction_index = 0\n",
    "    rmse_lst = [[],[],rmse_using_average(lst),attribute_set]\n",
    "    for sim_n in range(1,30):   # use top N similar device model\n",
    "        \"\"\" Find top n similarity \"\"\"\n",
    "        sim_val = [heapq.nlargest(sim_n+1, line) for line in sim_mat]\n",
    "        sim_val = [line[1:] for line in sim_val]\n",
    "\n",
    "        ## Get assignmed index of top N similar device model\n",
    "        sim_name = []\n",
    "        for i in range(0, len(sim_val)):\n",
    "            sim_name.append([lst3[k][0] for k, j in enumerate(sim_mat[i]) if j in sim_val[i]])\n",
    "\n",
    "        for i in range(0, len(lst)):\n",
    "            line = lst[i]\n",
    "            names = sim_name[i]\n",
    "            vals = sim_val[i]\n",
    "            id_count_sum = 0\n",
    "            id_count_with_app = 0\n",
    "            for line2 in lst:       \n",
    "                if line2[0] in names:            \n",
    "                    id_count_sum += line2[2][0]\n",
    "                    id_count_with_app += line2[2][1]\n",
    "            line[3].append(round(id_count_with_app/id_count_sum,3))    \n",
    "        rmse = rmse_calculation(lst, prediction_index)\n",
    "        prediction_index+=1\n",
    "        rmse_lst[0].append(sim_n)\n",
    "        rmse_lst[1].append(rmse)        \n",
    "    return(rmse_lst)\n",
    "\n",
    "def rmse_min_calculation(rmse_lst):\n",
    "    \"\"\" Method to find the minimum rmse for each attribute set\"\"\"\n",
    "    rmse = rmse_lst[1]\n",
    "    rmse_min = round(min(rmse),3)\n",
    "    n = rmse_lst[0]\n",
    "    n_rmse_min = [n[i] for i, j in enumerate(rmse) if j == min(rmse)]\n",
    "    #print(\"while RMSE using average prediction rate is\",rmse_lst[2], \"Minimum RMSE is\",rmse_min,\"when N is\",n_rmse_min) \n",
    "    return([round(rmse_lst[2],3),rmse_min,n_rmse_min])\n",
    "\n",
    "def rmse_plot(rmse_lst,attribute_set):\n",
    "    \"\"\" Method to plot rmse against N\"\"\"\n",
    "    rmse = rmse_lst[1]\n",
    "    n = rmse_lst[0]\n",
    "    legend.append(attribute_set)\n",
    "    plt.plot(n, rmse)    "
   ]
  },
  {
   "cell_type": "code",
   "execution_count": 55,
   "metadata": {
    "collapsed": false
   },
   "outputs": [
    {
     "name": "stdout",
     "output_type": "stream",
     "text": [
      "RMSE drops from .. to .. by predction using most similar .. device models, .. total device models for ... attributs selected\n",
      "[0.364, 0.296, [6], 842, (0, 1, 2, 3, 4, 5, 6, 7, 8)]\n"
     ]
    }
   ],
   "source": [
    "\"\"\" Select among attributes \"\"\"\n",
    "attribute_selection = 0\n",
    "attribute_set = all_subsets[attribute_selection]\n",
    "lst3 = [[line[10:12]]+[[line[i+1] for i in attribute_set]]+[line[12:14]] for line in lst2]\n",
    "lst3 = sorted(lst3, key=lambda line:line[2][0],reverse=True)\n",
    "\n",
    "merge_device_models(lst3)\n",
    "append_installation_rate(lst3)\n",
    "sim_mat = similarity_computation(lst3)\n",
    "rmse_lst = rmse_different_n(lst3,sim_mat,attribute_set)\n",
    "\n",
    "line = rmse_min_calculation(rmse_lst)\n",
    "line.append(len(lst3))\n",
    "line.append(attribute_set)\n",
    "print(\"RMSE drops from .. to .. by predction using most similar .. device models, .. total device models for ... attributs selected\")\n",
    "print(line)"
   ]
  },
  {
   "cell_type": "code",
   "execution_count": 58,
   "metadata": {
    "collapsed": false
   },
   "outputs": [
    {
     "data": {
      "image/png": "[encoded data removed]",
      "text/plain": [
       "<matplotlib.figure.Figure at 0x21ae0a5d438>"
      ]
     },
     "metadata": {},
     "output_type": "display_data"
    }
   ],
   "source": [
    "\"\"\"plot RMSE vs N device models selected (k in KNN) for all features\"\"\"\n",
    "import matplotlib.pyplot as plt\n",
    "%matplotlib inline\n",
    "plt.ylabel('RMSE')\n",
    "plt.xlabel('N most similar models')\n",
    "legend = []\n",
    "\n",
    "rmse_plot(rmse_lst,attribute_set)\n",
    "\n",
    "plt.legend(legend, loc='upper right')\n",
    "plt.show()"
   ]
  },
  {
   "cell_type": "code",
   "execution_count": 11,
   "metadata": {
    "collapsed": false
   },
   "outputs": [
    {
     "name": "stderr",
     "output_type": "stream",
     "text": [
      "C:\\Anaconda3\\lib\\site-packages\\scipy\\spatial\\distance.py:326: RuntimeWarning: invalid value encountered in double_scalars\n",
      "  dist = 1.0 - np.dot(u, v) / (norm(u) * norm(v))\n",
      "C:\\Anaconda3\\lib\\site-packages\\scipy\\spatial\\distance.py:326: RuntimeWarning: invalid value encountered in true_divide\n",
      "  dist = 1.0 - np.dot(u, v) / (norm(u) * norm(v))\n"
     ]
    }
   ],
   "source": [
    "\"\"\" Iterate for all attribute_set \"\"\"\n",
    "results = []\n",
    "for attribute_selection in range(0,len(all_subsets)-1):\n",
    "    attribute_set = all_subsets[attribute_selection]\n",
    "    lst3 = [[line[10:12]]+[[line[i+1] for i in attribute_set]]+[line[12:14]] for line in lst2]\n",
    "    lst3 = sorted(lst3, key=lambda line:line[2][0],reverse=True)\n",
    "\n",
    "    merge_device_models(lst3)\n",
    "    append_installation_rate(lst3)\n",
    "    sim_mat = similarity_computation(lst3)\n",
    "    rmse_lst = rmse_different_n(lst3,sim_mat,attribute_set)\n",
    "\n",
    "    line = rmse_min_calculation(rmse_lst)\n",
    "    line.append(len(lst3))\n",
    "    line.append(attribute_set)\n",
    "    \n",
    "    results.append(line)"
   ]
  },
  {
   "cell_type": "code",
   "execution_count": 33,
   "metadata": {
    "collapsed": false
   },
   "outputs": [
    {
     "name": "stdout",
     "output_type": "stream",
     "text": [
      "\n",
      "With 1 attributes\n",
      "[0.248, 0.27, [1, 2, 3, 4, 5, 6, 7, 8, 9, 10, 11, 12, 13, 14, 15, 16, 17, 18, 19, 20, 21, 22, 23, 24, 25, 26, 27, 28, 29], 11, (4,)]\n",
      "\n",
      "With 2 attributes\n",
      "[0.331, 0.248, [18], 203, (5, 7)]\n",
      "\n",
      "With 3 attributes\n",
      "[0.314, 0.235, [8], 194, (0, 3, 5)]\n",
      "\n",
      "With 4 attributes\n",
      "[0.309, 0.233, [7], 243, (0, 3, 4, 5)]\n",
      "\n",
      "With 5 attributes\n",
      "[0.312, 0.248, [12], 318, (0, 1, 3, 4, 5)]\n",
      "\n",
      "With 6 attributes\n",
      "[0.331, 0.27, [10], 414, (0, 1, 2, 3, 4, 5)]\n",
      "\n",
      "With 7 attributes\n",
      "[0.358, 0.287, [14], 743, (0, 1, 2, 3, 4, 5, 7)]\n",
      "[0.361, 0.287, [9], 792, (0, 1, 2, 3, 5, 6, 7)]\n",
      "[0.358, 0.287, [8], 781, (1, 2, 3, 4, 5, 6, 7)]\n",
      "\n",
      "With 8 attributes\n",
      "[0.362, 0.29, [9], 798, (0, 1, 2, 3, 4, 5, 6, 7)]\n",
      "\n",
      "With 9 attributes\n",
      "[0.364, 0.296, [6], 842, (0, 1, 2, 3, 4, 5, 6, 7, 8)]\n"
     ]
    }
   ],
   "source": [
    "def rmse_min_fix_number_attributes(results,n):\n",
    "    rmse_min_possible = min([line[1] for line in results if len(line[4])==n])\n",
    "    print(\"\\nWith\", n, \"attributes\")\n",
    "    for line in results:\n",
    "        if len(line[4])==n and rmse_min_possible==line[1]:\n",
    "            print(line)\n",
    "for i in range(1,10):\n",
    "    rmse_min_fix_number_attributes(results,i)"
   ]
  },
  {
   "cell_type": "code",
   "execution_count": null,
   "metadata": {
    "collapsed": true
   },
   "outputs": [],
   "source": [
    "\"\"\"Conclusion\n",
    "With 3 attributes\n",
    "[0.314, 0.235, [8], 194, (0, 3, 5)]\n",
    "\n",
    "With 4 attributes\n",
    "[0.309, 0.233, [7], 243, (0, 3, 4, 5)]\n",
    "\n",
    "The arrtibutes are SCREEN SIZE, FRONT CAMERA, #CORE, RAM\n",
    "\"\"\""
   ]
  }
 ],
 "metadata": {
  "anaconda-cloud": {},
  "kernelspec": {
   "display_name": "Python [Root]",
   "language": "python",
   "name": "Python [Root]"
  },
  "language_info": {
   "codemirror_mode": {
    "name": "ipython",
    "version": 3
   },
   "file_extension": ".py",
   "mimetype": "text/x-python",
   "name": "python",
   "nbconvert_exporter": "python",
   "pygments_lexer": "ipython3",
   "version": "3.5.2"
  }
 },
 "nbformat": 4,
 "nbformat_minor": 1
}
