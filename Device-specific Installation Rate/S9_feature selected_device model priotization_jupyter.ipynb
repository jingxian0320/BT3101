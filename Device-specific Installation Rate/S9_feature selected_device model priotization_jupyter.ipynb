{
 "cells": [
  {
   "cell_type": "code",
   "execution_count": 1,
   "metadata": {
    "collapsed": true
   },
   "outputs": [],
   "source": [
    "## Script Index: S9\n",
    "## Author: Liu Yue\n",
    "## Date: 15/10/2016\n",
    "## Python Version: Anaconda 4.2.0, python 3.5\n",
    "\n",
    "\"\"\" \n",
    "    This script runs model for devce model prioritization, \n",
    "    by checking the best cut-off for device_id_count \n",
    "    with RMSE for only measuring top device models, \n",
    "    using results from S8, with 4 attributes  \n",
    "\"\"\"\n",
    "\n",
    "\"\"\" Methods \"\"\"\n",
    "import math\n",
    "import heapq\n",
    "from scipy import spatial\n",
    "\n",
    "def merge_device_models(lst):\n",
    "    \"\"\" Method to check device models with the same attributes and merge\"\"\"\n",
    "    for line in lst:\n",
    "        device_model_name = line[0]\n",
    "        for line2 in lst:\n",
    "            device_model_name2 = line2[0]\n",
    "            if device_model_name!=device_model_name2 and line[1]==line2[1]:\n",
    "                line[0] = device_model_name + device_model_name2\n",
    "                line[2] = [line[2][0]+line2[2][0], line[2][1]+line2[2][1]]\n",
    "                lst.remove(line2)\n",
    "    lst = sorted(lst, key=lambda line:line[2][0],reverse=True) \n",
    "\n",
    "def rmse_using_average(lst):\n",
    "    squared_error_average = 0\n",
    "    for line in lst:\n",
    "        average = line[3][0]\n",
    "        actual = line[3][1]\n",
    "        squared_error_average += (average-actual)*(average-actual)\n",
    "    return(math.sqrt(squared_error_average/len(lst)))\n",
    "\n",
    "def append_installation_rate(lst):\n",
    "    \"\"\" Method to add average and actual installation rate\"\"\"\n",
    "    for line in lst:\n",
    "        installation_rate = line[2][1]/line[2][0]\n",
    "        line.append([round(standard_rate,3),round(installation_rate,3)])\n",
    "\n",
    "def similarity_computation(lst):\n",
    "    \"\"\" Compute all similarity for all divice models \"\"\"\n",
    "    sim_mat = []\n",
    "    for line in lst:\n",
    "        sim_line = []\n",
    "        for line2 in lst:\n",
    "            sim = 1 - spatial.distance.cosine(line[1], line2[1])\n",
    "            sim_line.append(sim)\n",
    "        sim_mat.append(sim_line)\n",
    "    return(sim_mat)\n"
   ]
  },
  {
   "cell_type": "code",
   "execution_count": 96,
   "metadata": {
    "collapsed": false
   },
   "outputs": [
    {
     "data": {
      "text/plain": [
       "[[['小米', '红米note', '中兴', 'DM'], [5.5, 500, 4, 1], [2525, 1456]]]"
      ]
     },
     "execution_count": 96,
     "metadata": {},
     "output_type": "execute_result"
    }
   ],
   "source": [
    "# Sample data\n",
    "lst2[:1]"
   ]
  },
  {
   "cell_type": "code",
   "execution_count": 63,
   "metadata": {
    "collapsed": false
   },
   "outputs": [
    {
     "name": "stdout",
     "output_type": "stream",
     "text": [
      "Total number of devices for all device models:\t\t 56865\n",
      "Total number of devices with selected app installed:\t 38291\n",
      "Weighted average installation rate:\t\t\t 0.673\n",
      "\n",
      "Using 4 attributes: SCREEN SIZE, FRONT CAMERA, #CORE, RAM\n",
      "Number of device models after merging:\t\t 243\n"
     ]
    },
    {
     "data": {
      "image/png": "[encoded data removed]",
      "text/plain": [
       "<matplotlib.figure.Figure at 0x24ef769ee48>"
      ]
     },
     "metadata": {},
     "output_type": "display_data"
    }
   ],
   "source": [
    "\"\"\" Data description\"\"\"\n",
    "\n",
    "\"\"\" Select all 4 attributes\n",
    "    With 4 attributes SCREEN SIZE, FRONT CAMERA, #CORE, RAM\n",
    "    [0.309, 0.233, [7], 243, (0, 3, 4, 5)]\n",
    "    243 device models after merging\n",
    "\"\"\"\n",
    "\n",
    "import csv\n",
    "import copy\n",
    "import math\n",
    "with open('S6_device model details.csv', newline='',encoding='utf-8') as f:\n",
    "    file = csv.reader(f)\n",
    "    device_model_details = list(file)\n",
    "    \n",
    "for line in device_model_details:\n",
    "    numeric_index = {1,2,3,4,5,6,7,8,9,12,13}\n",
    "    for i in numeric_index:\n",
    "        line[i] = float(line[i])\n",
    "        if int(str(line[i]).split('.')[1])==0:\n",
    "            line[i] = int(line[i])\n",
    "\n",
    "lst =  copy.deepcopy(device_model_details)\n",
    "total_device_count = sum(line[12] for line in lst)\n",
    "print(\"Total number of devices for all device models:\\t\\t\",total_device_count)\n",
    "total_app_device_count = sum(line[13] for line in lst)\n",
    "print(\"Total number of devices with selected app installed:\\t\",total_app_device_count)\n",
    "standard_rate = total_app_device_count/total_device_count\n",
    "print(\"Weighted average installation rate:\\t\\t\\t\", round(standard_rate,3))\n",
    "\n",
    "print(\"\\nUsing 4 attributes: SCREEN SIZE, FRONT CAMERA, #CORE, RAM\")\n",
    "\n",
    "attribute_set = (0, 3, 4, 5)\n",
    "lst2 = [[line[10:12]]+[[line[i+1] for i in attribute_set]]+[line[12:14]] for line in lst]\n",
    "lst2 = sorted(lst2, key=lambda line:line[2][0],reverse=True)\n",
    "merge_device_models(lst2)\n",
    "print(\"Number of device models after merging:\\t\\t\",len(lst2))\n",
    "\n",
    "\n",
    "import matplotlib.pyplot as plt\n",
    "import numpy as np\n",
    "%matplotlib inline\n",
    "\n",
    "ar = sorted([line[2][0] for line in lst2], reverse=True)\n",
    "ar.append(0)\n",
    "y = np.cumsum(ar).astype(\"float32\")\n",
    "y/=y.max() #normalise to a percentage\n",
    "y*=100.\n",
    "x = range(0,len(ar))\n",
    "\n",
    "plt.title(\"\\n243 device models for 56865 device_id\\n\")\n",
    "plt.ylabel('Cumulative percentage')\n",
    "plt.xlabel('Number of device models with 4 attributes')\n",
    "\n",
    "plt.plot(x,y)\n",
    "plt.show()"
   ]
  },
  {
   "cell_type": "code",
   "execution_count": 64,
   "metadata": {
    "collapsed": false
   },
   "outputs": [
    {
     "name": "stdout",
     "output_type": "stream",
     "text": [
      "Number of possible device_id_count: 103\n"
     ]
    }
   ],
   "source": [
    "\"\"\" list of possible devicd_id_count \"\"\"\n",
    "device_id_count = sorted(list(set(line[2][0] for line in lst2)), key=lambda x:x)\n",
    "print(\"Number of possible device_id_count:\",len(device_id_count))"
   ]
  },
  {
   "cell_type": "code",
   "execution_count": 66,
   "metadata": {
    "collapsed": true
   },
   "outputs": [],
   "source": [
    "def checking_error(lst3, prediction_index):\n",
    "    \"\"\" Method to check the prediction error \"\"\"\n",
    "    count = 0\n",
    "    squared_error_prediction = 0\n",
    "    for line in lst3:\n",
    "        average = line[3][0]\n",
    "        actual = line[3][1]\n",
    "        prediction = line[3][prediction_index+2]\n",
    "        squared_error_prediction += (prediction-actual)*(prediction-actual)\n",
    "        if abs(prediction-actual) < abs(average-actual):\n",
    "            count+=1\n",
    "    return(math.sqrt(squared_error_prediction/len(lst3)))"
   ]
  },
  {
   "cell_type": "code",
   "execution_count": 79,
   "metadata": {
    "collapsed": false
   },
   "outputs": [],
   "source": [
    "\"\"\" Only measuring top device models\"\"\"\n",
    "import math\n",
    "import heapq    \n",
    "import copy\n",
    "result =[]\n",
    "\n",
    "for minminum_device_count in device_id_count[:101]:\n",
    "    \"\"\"\"\"\"\n",
    "    lst3 =  copy.deepcopy(lst2)\n",
    "    lst3 = [line for line in lst3 if line[2][0]>minminum_device_count]\n",
    "    lst3 = sorted(lst3, key=lambda line:line[2][0],reverse=True)\n",
    "    \n",
    "    ## Add installation rate\n",
    "    append_installation_rate(lst3)\n",
    "    ## Compute rmse for using average rate for prediction\n",
    "    rmse_average = rmse_using_average(lst3)\n",
    "    ## Compute all similarity for divice models \n",
    "    sim_mat = similarity_computation(lst3)\n",
    "\n",
    "    prediction_index = 0\n",
    "    rmse = []\n",
    "    n = []\n",
    "\n",
    "    for sim_n in range(1,30):  \n",
    "        \"\"\" Find top n similarity \"\"\"\n",
    "        sim_val = [heapq.nlargest(sim_n+1, line) for line in sim_mat]\n",
    "        sim_val = [line[1:] for line in sim_val]\n",
    "\n",
    "        ## Get assignmed index of top N similar device model\n",
    "        sim_name = []\n",
    "        for i in range(0, len(sim_val)):\n",
    "            sim_name.append([lst3[k][0] for k, j in enumerate(sim_mat[i]) if j in sim_val[i]])\n",
    "\n",
    "        for i in range(0, len(lst3)):\n",
    "            line = lst3[i]\n",
    "            names = sim_name[i]\n",
    "            vals = sim_val[i]\n",
    "            id_count_sum = 0\n",
    "            id_count_with_app = 0\n",
    "            for line2 in lst3:       \n",
    "                if line2[0] in names:            \n",
    "                    id_count_sum += line2[2][0]\n",
    "                    id_count_with_app += line2[2][1]\n",
    "            line[3].append(round(id_count_with_app/id_count_sum,3))    \n",
    "        n.append(sim_n)\n",
    "        rmse.append(checking_error(lst3, prediction_index))\n",
    "        prediction_index+=1\n",
    "        \n",
    "    rmse_min = round(min(rmse),3),\n",
    "    n_rmse_min = [n[i] for i, j in enumerate(rmse) if j == min(rmse)]\n",
    "\n",
    "    result.append([minminum_device_count,rmse_average,rmse_min,n_rmse_min])"
   ]
  },
  {
   "cell_type": "code",
   "execution_count": 80,
   "metadata": {
    "collapsed": false
   },
   "outputs": [
    {
     "data": {
      "image/png": "[encoded data removed]",
      "text/plain": [
       "<matplotlib.figure.Figure at 0x24ef78056d8>"
      ]
     },
     "metadata": {},
     "output_type": "display_data"
    },
    {
     "name": "stdout",
     "output_type": "stream",
     "text": [
      "Minimum RMSE using all attributes to predict is 0.065 when device count > 2251 for predicting using most [1, 2, 3, 4, 5, 6, 7, 8, 9, 10, 11, 12, 13, 14, 15, 16, 17, 18, 19, 20, 21, 22, 23, 24, 25, 26, 27, 28, 29] similar models\n",
      "\n",
      "RMSE of using all attributes to predict differs the most from RMSE of using average rate to predict when device count > 940 for predicting using most [1] similar models\n",
      "RMSE is reduces from 0.106 to 0.066\n"
     ]
    }
   ],
   "source": [
    "\"\"\"plot Minimum RMSE vs minminum_device_count\"\"\"\n",
    "import matplotlib.pyplot as plt\n",
    "%matplotlib inline\n",
    "plt.ylabel('RMSE')\n",
    "plt.xlabel('Minminum device count')\n",
    "\n",
    "legend = [\"using 4 attributes\",\"using average rate\",\"difference% wrt average\"]\n",
    "n = [line[3] for line in result]\n",
    "rmse_average = [line[1] for line in result]\n",
    "rmse_attributes = [line[2][0] for line in result]\n",
    "rmse_percentage_difference = [(line[1]-line[2][0])/line[1] for line in result]\n",
    "minminum_device_count = [line[0] for line in result]\n",
    "plt.plot(minminum_device_count, rmse_attributes)\n",
    "plt.plot(minminum_device_count, rmse_average)\n",
    "plt.plot(minminum_device_count, rmse_percentage_difference)\n",
    "\n",
    "plt.legend(legend, loc='lower left')\n",
    "plt.show()\n",
    "print(\"Minimum RMSE using all attributes to predict is\",round(min(rmse_attributes),3), \n",
    "      \"when device count >\", [minminum_device_count[i] for i, j in enumerate(rmse_attributes) if j == min(rmse_attributes)][0],\n",
    "      \"for predicting using most\", [n[i] for i, j in enumerate(rmse_attributes) if j == min(rmse_attributes)][0],\"similar models\")\n",
    "print(\"\\nRMSE of using all attributes to predict differs the most from RMSE of using average rate to predict\",\n",
    "      \"when device count >\", [minminum_device_count[i] for i, j in enumerate(rmse_percentage_difference) if j == max(rmse_percentage_difference)][0],\n",
    "      \"for predicting using most\", [n[i] for i, j in enumerate(rmse_percentage_difference) if j == max(rmse_percentage_difference)][0],\n",
    "      \"similar models\\nRMSE is reduces from\", \n",
    "      round([rmse_average[i] for i, j in enumerate(rmse_percentage_difference) if j == max(rmse_percentage_difference)][0],3),\n",
    "     \"to\", [rmse_attributes[i] for i, j in enumerate(rmse_percentage_difference) if j == max(rmse_percentage_difference)][0])"
   ]
  },
  {
   "cell_type": "code",
   "execution_count": 93,
   "metadata": {
    "collapsed": false
   },
   "outputs": [
    {
     "name": "stdout",
     "output_type": "stream",
     "text": [
      "For min RMSE, number of top device models considered: 13\n",
      "Percentage of device_id accounted for: 0.36\n"
     ]
    }
   ],
   "source": [
    "print(\"For min RMSE, number of top device models considered:\",len([line for line in lst2 if line[2][0]>940]))\n",
    "print(\"Percentage of device_id accounted for:\", round(sum([line[2][0] for line in lst2 if line[2][0]>940])/56865,3))"
   ]
  },
  {
   "cell_type": "code",
   "execution_count": 94,
   "metadata": {
    "collapsed": false
   },
   "outputs": [
    {
     "data": {
      "text/plain": [
       "[[['小米', '红米note', '中兴', 'DM'], [5.5, 500, 4, 1], [2525, 1456]],\n",
       " [['小米', 'MI 4', '一加', 'X'], [5, 800, 4, 3], [2251, 1826]],\n",
       " [['三星', 'Galaxy Note 3'], [5.7, 200, 4, 3], [1530, 1152]],\n",
       " [['华为', '荣耀6', '海信', '金刚II'], [5, 500, 8, 3], [1552, 1169]],\n",
       " [['小米', 'MI 3', '努比亚', 'Z5'], [5, 200, 4, 2], [2671, 1715]],\n",
       " [['华为', 'Mate 7', '金立', 'M5 Plus'], [6, 500, 8, 3], [1311, 1077]],\n",
       " [['华为', '荣耀6 Plus', '朵唯', 'L5 Plus'], [5.5, 800, 8, 3], [1436, 1028]],\n",
       " [['小米', 'MI 2S', '索尼', 'Xperia Z1 炫彩版'], [4.3, 200, 4, 2], [1255, 690]],\n",
       " [['小米', '红米2', '小米', '红米2A'], [4.7, 200, 4, 2], [1557, 987]],\n",
       " [['小米', '小米note', '小米', 'note顶配版'], [5.7, 400, 8, 4], [1121, 988]],\n",
       " [['OPPO', 'R7', '努比亚', 'Z9 mini 精英版'], [5, 800, 8, 3], [972, 747]],\n",
       " [['华为', '荣耀7', '努比亚', 'My 布拉格'], [5.2, 800, 8, 3], [1356, 1044]],\n",
       " [['三星', 'Galaxy S5', '魅族', 'MX3'], [5.1, 200, 4, 2], [960, 686]]]"
      ]
     },
     "execution_count": 94,
     "metadata": {},
     "output_type": "execute_result"
    }
   ],
   "source": [
    "## The 13 device models\n",
    "[line for line in lst2 if line[2][0]>940]"
   ]
  }
 ],
 "metadata": {
  "anaconda-cloud": {},
  "kernelspec": {
   "display_name": "Python [Root]",
   "language": "python",
   "name": "Python [Root]"
  },
  "language_info": {
   "codemirror_mode": {
    "name": "ipython",
    "version": 3
   },
   "file_extension": ".py",
   "mimetype": "text/x-python",
   "name": "python",
   "nbconvert_exporter": "python",
   "pygments_lexer": "ipython3",
   "version": "3.5.2"
  }
 },
 "nbformat": 4,
 "nbformat_minor": 1
}
