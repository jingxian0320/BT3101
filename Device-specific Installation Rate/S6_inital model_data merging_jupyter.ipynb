{
 "cells": [
  {
   "cell_type": "code",
   "execution_count": null,
   "metadata": {
    "collapsed": true
   },
   "outputs": [],
   "source": [
    "## Script Index: S6\n",
    "## Author: Liu Yue\n",
    "## Date: 10/10/2016\n",
    "## Python Version: Anaconda 4.2.0, python 3.5\n",
    "\n",
    "\n",
    "\"\"\" \n",
    "    This script merges datasets from ZOL and from TalkIngData. \n",
    "    Initial model is explored to test the feasibility of kNN and CF\n",
    "\"\"\""
   ]
  },
  {
   "cell_type": "code",
   "execution_count": 1,
   "metadata": {
    "collapsed": false
   },
   "outputs": [
    {
     "name": "stdout",
     "output_type": "stream",
     "text": [
      "Sample original data [['13', '376347', '5英寸', '1920x1080像素', '1400万像素', '500万像素', '八核', '2GB', '2000mAh', '25', '399', '【神舟X50TS】报价_参数_图片_论坛_Hasee X50TS神舟手机报价-ZOL中关村在线']]\n",
      "\n",
      "Attributes:\n",
      "assigned_index, SCREEN SIZE, SCREEN RESOLUTION, BACK CAM, FRONT CAM, #CORE, RAM, BATTERY, AGE, PRICE\n",
      "\n",
      "Sample formated data [['13', 5.0, 1080, 1400, 500, 8, 2, 2000, 25, 350]]\n"
     ]
    }
   ],
   "source": [
    "\"\"\" Data pre-processing \"\"\"\n",
    "\n",
    "def spec_format(lst):\n",
    "    \"\"\" Method to convert Chinese to int\"\"\"\n",
    "    lst2 = [line[:11] for line in lst if len(line)>11]\n",
    "    for line in lst2:\n",
    "        try:\n",
    "            line[2] = float(line[2].replace(\"英寸\",\"\"))\n",
    "        except Exception:\n",
    "            line[2] = 0\n",
    "        try:\n",
    "            line[3] = int(line[3].replace(\"像素\",\"\").upper().split(\"X\")[1])\n",
    "        except Exception:\n",
    "            line[3] = 0\n",
    "        try:\n",
    "            line[4] = int(line[4].replace(\"万像素\",\"\"))\n",
    "        except Exception:\n",
    "            line[4] = 0\n",
    "        try:\n",
    "            line[5] = int(line[5].replace(\"万像素\",\"\"))\n",
    "        except Exception:\n",
    "            line[5] = 0\n",
    "        line[6] = count_core(line[6])\n",
    "        line[7] = count_ram(line[7])\n",
    "        try:\n",
    "            line[8] = int(line[8].upper().replace(\"MAH\",\"\"))\n",
    "        except Exception:\n",
    "            line[8] = 0\n",
    "        try:\n",
    "            line[9] = int(line[9])\n",
    "        except Exception:\n",
    "            line[9] = 999\n",
    "        try:\n",
    "            line[10] = int(line[10]) - int(line[10])%50\n",
    "        except Exception:\n",
    "            line[10] = 0\n",
    "        # Remove zol_index\n",
    "        del line[1]\n",
    "    return([line for n,line in enumerate(lst2) if line not in lst2[:n]])# Remove duplicates\n",
    "def count_core(s):\n",
    "    \"\"\" Method to count # cores of phone\"\"\"\n",
    "    n = 1\n",
    "    if s == \"\":\n",
    "        return(n)\n",
    "    if \"八\" in s:\n",
    "        n = 8\n",
    "    elif \"四\" in s:\n",
    "        n = 4\n",
    "    return(n)\n",
    "def count_ram(s):\n",
    "    \"\"\" Method to count RAM of phone\"\"\"\n",
    "    n = 0\n",
    "    if s == \"\":\n",
    "        return(n)\n",
    "    try:\n",
    "        if \"GB\" in s:\n",
    "            n = int(s.upper().replace(\"GB\",\"\"))\n",
    "        elif \"MB\" in s:\n",
    "            n = int(s.upper().replace(\"MB\",\"\"))/1024\n",
    "        return(n)\n",
    "    except Exception:\n",
    "        return(0)\n",
    "def same_index(a, b):\n",
    "    \"\"\" Method to check whether the two zol device models have the assigned Talking Data index \"\"\"\n",
    "    if a==b:\n",
    "        return(False)\n",
    "    if a[0] != b[0]:\n",
    "        return(False)\n",
    "    return(True)\n",
    "def remove_zol_line(a,b,lst):\n",
    "    \"\"\" Method to check which to be removed: lower camera pixel, lower ram, higher price, younger age \"\"\"\n",
    "    back_a = a[4]\n",
    "    back_b = b[4]\n",
    "    ram_a = a[6]\n",
    "    ram_b = b[6]\n",
    "    price_a = a[9]\n",
    "    price_b = b[9]\n",
    "    age_a = a[8]\n",
    "    age_b = b[8]\n",
    "    if back_a > back_b:\n",
    "        removal = b\n",
    "    elif back_a < back_b:\n",
    "        removal = a\n",
    "    elif ram_a > ram_b:\n",
    "        removal = b\n",
    "    elif ram_a < ram_b:\n",
    "        removal = a\n",
    "    elif price_a == 0:\n",
    "        removal = a\n",
    "    elif price_b == 0:\n",
    "        removal = b         \n",
    "    elif price_a > price_b:\n",
    "        removal = a\n",
    "    elif price_a < price_b:\n",
    "        removal = b\n",
    "    elif age_a > age_b:\n",
    "        removal = b\n",
    "    elif age_a < age_b:\n",
    "        removal = a\n",
    "    else:\n",
    "        removal = None\n",
    "    if removal in lst:\n",
    "        lst.remove(removal)\n",
    "\n",
    "\"\"\"Load scraped data\"\"\"\n",
    "import csv\n",
    "with open('S5_zol phone device specidication.csv', newline='',encoding='utf-8') as f:\n",
    "    file = csv.reader(f)\n",
    "    spec = list(file)\n",
    "spec[0][0] = spec[0][0].replace(u'\\ufeff', '') # Remove Byte Order Mark character at start of file\n",
    "print('Sample original data', spec[:1]) \n",
    "\n",
    "\"\"\" data formatting and cleasing \"\"\"\n",
    "lst = spec_format(spec)\n",
    "lst = [line for line in lst if line[9]>0 and line[8]>0]\n",
    "while len(lst) > len(set(line[0] for line in lst)):\n",
    "    for line1 in lst:\n",
    "        for line2 in lst:\n",
    "            if same_index(line1, line2):\n",
    "                remove_zol_line(line1, line2, lst)\n",
    "print(\"\\nAttributes:\")\n",
    "print(\"assigned_index, SCREEN SIZE, SCREEN RESOLUTION, BACK CAM, FRONT CAM, #CORE, RAM, BATTERY, AGE, PRICE\")\n",
    "print('\\nSample formated data', lst[:1]) "
   ]
  },
  {
   "cell_type": "code",
   "execution_count": 2,
   "metadata": {
    "collapsed": false
   },
   "outputs": [
    {
     "name": "stdout",
     "output_type": "stream",
     "text": [
      "Sample data loaded: ['1;\"爱派尔\";\"iPh-800\";\"3\"']\n",
      "\n",
      "Attributes:\n",
      "assigned_index, SCREEN SIZE, SCREEN RESOLUTION, BACK CAM, FRONT CAM, #CORE, RAM, BATTERY, AGE, PRICE,\n",
      "phone_brand, tk_name, count_device_id\n",
      "\n",
      "Sample data: [['861', 5.5, 720, 1300, 500, 4, 1, 3100, 14, 650, '小米', '红米note', '2443'], ['871', 5.0, 1080, 1300, 800, 4, 3, 3080, 19, 1150, '小米', 'MI 4', '2232'], ['1051', 5.7, 1080, 1300, 200, 4, 3, 3200, 33, 1100, '三星', 'Galaxy Note 3', '1530']]\n"
     ]
    }
   ],
   "source": [
    "\"\"\" Merge data with device_id_count\"\"\"\n",
    "\n",
    "\"\"\" Loading: data pre-processed by MySQL and saved as .csv \n",
    "    Possible but complex to load directly as MySQL charset not complient to universal charset\n",
    "    See detailed loading method in Week 7 journal\"\"\"\n",
    "import csv\n",
    "import re\n",
    "with open('S0_device_model_count.csv', newline='',encoding='utf-8') as f:\n",
    "    file = csv.reader(f)\n",
    "    tk_device = list(file)\n",
    "tk_device = sum(tk_device, [])\n",
    "print('Sample data loaded:', tk_device[:1] )\n",
    "\n",
    "def format_sql_line (s):\n",
    "    lst = re.split('\"|;', s.replace('\"',''))\n",
    "    return lst\n",
    "tk_device_models = [format_sql_line(line) for line in tk_device]\n",
    "\n",
    "for line in lst:\n",
    "    for line2 in tk_device_models:\n",
    "        if line[0]==line2[0]:\n",
    "            line.extend(line2[1:])\n",
    "lst = sorted(lst, key=lambda line:int(line[12]),reverse=True)\n",
    "print(\"\\nAttributes:\")\n",
    "print(\"assigned_index, SCREEN SIZE, SCREEN RESOLUTION, BACK CAM, FRONT CAM, #CORE, RAM, BATTERY, AGE, PRICE,\")\n",
    "print((\"phone_brand, tk_name, count_device_id\"))\n",
    "print('\\nSample data:', lst[:3])"
   ]
  },
  {
   "cell_type": "code",
   "execution_count": 3,
   "metadata": {
    "collapsed": false
   },
   "outputs": [
    {
     "name": "stdout",
     "output_type": "stream",
     "text": [
      "Top missing device models\n",
      "[['526', 'OPPO', 'A51kc', '9'], ['752', '华为', 'G6-C00', '9'], ['783', '华为', 'MediaPad M2-801W', '9'], ['982', '海信', 'M20-T', '9'], ['1114', '三星', 'SHV-E210L', '9']]\n",
      "\n",
      "All major device models (count_id > 10) are account for.\n"
     ]
    }
   ],
   "source": [
    "\"\"\" Check: device models not accounted for\"\"\"\n",
    "assigned_indsx_present = set(line[0] for line in lst)\n",
    "tk_device_models_missing = [line for line in tk_device_models if line[0] not in assigned_indsx_present]\n",
    "tk_device_models_missing = sorted(tk_device_models_missing , key=lambda line:line[3], reverse=True)\n",
    "print(\"Top missing device models\")\n",
    "print(tk_device_models_missing[:5])\n",
    "if int(tk_device_models_missing[0][3]) <10:\n",
    "    print(\"\\nAll major device models (count_id > 10) are account for.\")"
   ]
  },
  {
   "cell_type": "code",
   "execution_count": 4,
   "metadata": {
    "collapsed": false
   },
   "outputs": [
    {
     "name": "stdout",
     "output_type": "stream",
     "text": [
      "Out of  187245 devices,  39281 are of the required category\n",
      "\n",
      "Attributes:\n",
      "assigned_index, SCREEN SIZE, SCREEN RESOLUTION, BACK CAM, FRONT CAM, #CORE, RAM, BATTERY, AGE, PRICE,\n",
      "phone_brand, tk_name, count_device_id, count_tencent_game_device_id\n",
      "\n",
      "Sample data: [['861', 5.5, 720, 1300, 500, 4, 1, 3100, 14, 650, '小米', '红米note', 2443, 1418], ['871', 5.0, 1080, 1300, 800, 4, 3, 3080, 19, 1150, '小米', 'MI 4', 2232, 1812], ['1051', 5.7, 1080, 1300, 200, 4, 3, 3200, 33, 1100, '三星', 'Galaxy Note 3', 1530, 1152]]\n"
     ]
    }
   ],
   "source": [
    "\"\"\" Merge data with device_id_count of selected app category\"\"\"\n",
    "\n",
    "import csv\n",
    "import re\n",
    "\n",
    "## Load: tencent game evice id\n",
    "with open('tencent_game_device_id.csv', newline='',encoding='utf-8') as f:\n",
    "    file = csv.reader(f)\n",
    "    tencent_game_device_id = list(file)\n",
    "tencent_game_device_id = sum(tencent_game_device_id, [])\n",
    "tencent_game_device_id = set(tencent_game_device_id)\n",
    "\n",
    "## Load all device_id with apps events registered, and device_model regstered\n",
    "with open('phone_brand_device_model.csv', newline='',encoding='utf-8') as f:\n",
    "    file = csv.reader(f)\n",
    "    phone_brand_device_model = list(file)\n",
    "phone_brand_device_model = phone_brand_device_model[1:]\n",
    "\n",
    "phone_brand_device_model_tencent = [line for line in phone_brand_device_model if line[0] in tencent_game_device_id]\n",
    "\n",
    "print(\"Out of \",len(phone_brand_device_model),\"devices, \",len(phone_brand_device_model_tencent),\"are of the required category\")\n",
    "\n",
    "for line in lst:\n",
    "    brand = line[10]\n",
    "    model = line[11]\n",
    "    line[12] = int(line[12])\n",
    "    line.append(0)\n",
    "    for line2 in phone_brand_device_model_tencent:\n",
    "        if line2[1]==brand and line2[2]==model:\n",
    "            line[13] = int(line[13])+1\n",
    "\n",
    "print(\"\\nAttributes:\")\n",
    "print(\"assigned_index, SCREEN SIZE, SCREEN RESOLUTION, BACK CAM, FRONT CAM, #CORE, RAM, BATTERY, AGE, PRICE,\")\n",
    "print((\"phone_brand, tk_name, count_device_id, count_tencent_game_device_id\"))\n",
    "print('\\nSample data:', lst[:3])"
   ]
  },
  {
   "cell_type": "code",
   "execution_count": 109,
   "metadata": {
    "collapsed": true
   },
   "outputs": [],
   "source": [
    "## Write the data to CSV files\n",
    "with open('S6_device model details.csv','w',newline='',encoding='utf-8') as f:\n",
    "    a = csv.writer(f)\n",
    "    a.writerows(lst)"
   ]
  },
  {
   "cell_type": "code",
   "execution_count": 17,
   "metadata": {
    "collapsed": false
   },
   "outputs": [],
   "source": [
    "## How to get back the list\n",
    "## Read device_model_details\n",
    "with open('S6_device model details.csv', newline='',encoding='utf-8') as f:\n",
    "    file = csv.reader(f)\n",
    "    device_model_details = list(file)\n",
    "    \n",
    "for line in device_model_details:\n",
    "    numeric_index = {1,2,3,4,5,6,7,8,9,12,13}\n",
    "    for i in numeric_index:\n",
    "        line[i] = float(line[i])\n",
    "        if int(str(line[i]).split('.')[1])==0:\n",
    "            line[i] = int(line[i])\n",
    "\n",
    "#device_model_details==lst"
   ]
  },
  {
   "cell_type": "code",
   "execution_count": 18,
   "metadata": {
    "collapsed": false
   },
   "outputs": [
    {
     "name": "stdout",
     "output_type": "stream",
     "text": [
      "Total number of devices for all device models: 56865\n",
      "Total number of devices with selected app installed: 38291\n",
      "Weighted average installation rate: 0.673\n"
     ]
    }
   ],
   "source": [
    "import copy\n",
    "import math\n",
    "lst2 =  copy.deepcopy(device_model_details)\n",
    "total_device_count = sum(line[12] for line in lst2)\n",
    "print(\"Total number of devices for all device models:\",total_device_count)\n",
    "total_app_device_count = sum(line[13] for line in lst2)\n",
    "print(\"Total number of devices with selected app installed:\",total_app_device_count)\n",
    "standard_rate = total_app_device_count/total_device_count\n",
    "print(\"Weighted average installation rate:\", round(standard_rate,3))"
   ]
  },
  {
   "cell_type": "code",
   "execution_count": 19,
   "metadata": {
    "collapsed": false
   },
   "outputs": [],
   "source": [
    "\"\"\" Select all 9 attributes \"\"\"\n",
    "lst3 = [[line[10:12]]+[line[1:10]]+[line[12:14]] for line in lst2]\n",
    "lst3 = sorted(lst3, key=lambda line:line[2][0],reverse=True)"
   ]
  },
  {
   "cell_type": "code",
   "execution_count": 20,
   "metadata": {
    "collapsed": false
   },
   "outputs": [
    {
     "name": "stdout",
     "output_type": "stream",
     "text": [
      "873 device models are merged to 842\n"
     ]
    }
   ],
   "source": [
    "\"\"\" Check device models with the same attributes and merge\"\"\"\n",
    "for line in lst3:\n",
    "    device_model_name = line[0]\n",
    "    for line2 in lst3:\n",
    "        device_model_name2 = line2[0]\n",
    "        if device_model_name!=device_model_name2 and line[1]==line2[1]:\n",
    "            line[0] = device_model_name + device_model_name2\n",
    "            line[2] = [line[2][0]+line2[2][0], line[2][1]+line2[2][1]]\n",
    "            lst3.remove(line2)\n",
    "lst3 = sorted(lst3, key=lambda line:line[2][0],reverse=True)\n",
    "print(len(lst), \"device models are merged to\",len(lst3))"
   ]
  },
  {
   "cell_type": "code",
   "execution_count": 21,
   "metadata": {
    "collapsed": false
   },
   "outputs": [
    {
     "name": "stdout",
     "output_type": "stream",
     "text": [
      "Attributes:\n",
      "device_model_name, selected attributes, [count_device_id, count_tencent_game_device_id], [mean_rate, actual_rate]\n",
      "Sample data:\n"
     ]
    },
    {
     "data": {
      "text/plain": [
       "[[['小米', '红米note'],\n",
       "  [5.5, 720, 1300, 500, 4, 1, 3100, 14, 650],\n",
       "  [2443, 1418],\n",
       "  [0.673, 0.58]]]"
      ]
     },
     "execution_count": 21,
     "metadata": {},
     "output_type": "execute_result"
    }
   ],
   "source": [
    "\"\"\" Add installation rate\"\"\"\n",
    "for line in lst3:\n",
    "    installation_rate = line[2][1]/line[2][0]\n",
    "    line.append([round(standard_rate,3),round(installation_rate,3)])\n",
    "print(\"Attributes:\")\n",
    "print(\"device_model_name, selected attributes, [count_device_id, count_tencent_game_device_id], [mean_rate, actual_rate]\")\n",
    "print('Sample data:')\n",
    "lst3[:1]"
   ]
  },
  {
   "cell_type": "code",
   "execution_count": 22,
   "metadata": {
    "collapsed": false
   },
   "outputs": [
    {
     "name": "stdout",
     "output_type": "stream",
     "text": [
      "Root-mean-square error, using average rate: 0.3643851180437819\n"
     ]
    }
   ],
   "source": [
    "squared_error_average = 0\n",
    "for line in lst3:\n",
    "    average = line[3][0]\n",
    "    actual = line[3][1]\n",
    "    squared_error_average += (average-actual)*(average-actual)\n",
    "print(\"Root-mean-square error, using average rate:\", math.sqrt(squared_error_average/len(lst3)))"
   ]
  },
  {
   "cell_type": "code",
   "execution_count": 23,
   "metadata": {
    "collapsed": true
   },
   "outputs": [],
   "source": [
    "\"\"\" Compute all similarity for divice models \"\"\"\n",
    "from scipy import spatial\n",
    "sim_mat = []\n",
    "for line in lst3:\n",
    "    sim_line = []\n",
    "    for line2 in lst3:\n",
    "        sim = 1 - spatial.distance.cosine(line[1], line2[1])\n",
    "        sim_line.append(sim)\n",
    "    sim_mat.append(sim_line) "
   ]
  },
  {
   "cell_type": "code",
   "execution_count": 24,
   "metadata": {
    "collapsed": false
   },
   "outputs": [],
   "source": [
    "import math\n",
    "def checking_error(lst3, prediction_index):\n",
    "    \"\"\" Method to check the prediction error \"\"\"\n",
    "    count = 0\n",
    "    squared_error_prediction = 0\n",
    "    for line in lst3:\n",
    "        average = line[3][0]\n",
    "        actual = line[3][1]\n",
    "        prediction = line[3][prediction_index+2]\n",
    "        squared_error_prediction += (prediction-actual)*(prediction-actual)\n",
    "        if abs(prediction-actual) < abs(average-actual):\n",
    "            count+=1\n",
    "    #print(\"Percentage of better prediction:\", count/len(lst3))\n",
    "    #print(\"Root-mean-square error for prediction:\", math.sqrt(squared_error_prediction/len(lst3)))\n",
    "    return(math.sqrt(squared_error_prediction/len(lst3)))"
   ]
  },
  {
   "cell_type": "code",
   "execution_count": 25,
   "metadata": {
    "collapsed": false
   },
   "outputs": [],
   "source": [
    "import heapq\n",
    "\n",
    "prediction_index = 0\n",
    "RMSE_lst = []\n",
    "\n",
    "for sim_n in range(1,200):  \n",
    "    \"\"\" Find top n similarity \"\"\"\n",
    "    sim_val = [heapq.nlargest(sim_n+1, line) for line in sim_mat]\n",
    "    sim_val = [line[1:] for line in sim_val]\n",
    "    \n",
    "    ## Get assignmed index of top N similar device model\n",
    "    sim_name = []\n",
    "    for i in range(0, len(sim_val)):\n",
    "        sim_name.append([lst3[k][0] for k, j in enumerate(sim_mat[i]) if j in sim_val[i]])\n",
    "\n",
    "    for i in range(0, len(lst3)):\n",
    "        line = lst3[i]\n",
    "        names = sim_name[i]\n",
    "        vals = sim_val[i]\n",
    "        id_count_sum = 0\n",
    "        id_count_with_app = 0\n",
    "        for line2 in lst3:       \n",
    "            if line2[0] in names:            \n",
    "                id_count_sum += line2[2][0]\n",
    "                id_count_with_app += line2[2][1]\n",
    "        line[3].append(round(id_count_with_app/id_count_sum,3))    \n",
    "    RMSE = checking_error(lst3, prediction_index)\n",
    "    prediction_index+=1\n",
    "    RMSE_lst.append([sim_n, RMSE])"
   ]
  },
  {
   "cell_type": "code",
   "execution_count": 41,
   "metadata": {
    "collapsed": false
   },
   "outputs": [
    {
     "data": {
      "image/png": "[encoded data removed]",
      "text/plain": [
       "<matplotlib.figure.Figure at 0x1b83df60fd0>"
      ]
     },
     "metadata": {},
     "output_type": "display_data"
    },
    {
     "name": "stdout",
     "output_type": "stream",
     "text": [
      "Minimum RMSE is 0.296 when N is [6]\n"
     ]
    }
   ],
   "source": [
    "\"\"\"plot RMSE vs N device models selected for n up to 200\"\"\"\n",
    "import matplotlib.pyplot as plt \n",
    "%matplotlib inline\n",
    "plt.ylabel('RMSE')\n",
    "plt.xlabel('K neasrest neighbour (most similar device models)')\n",
    "\n",
    "legend = [\"All fetures selected for similarity\", \"Baseline using mean rate\"]\n",
    "n = [line[0] for line in RMSE_lst]\n",
    "rmse = [line[1] for line in RMSE_lst]\n",
    "plt.plot(n, rmse)\n",
    "\n",
    "#plt.axhline(, xmin=1, xmax=200, linewidth=2, color = 'k')\n",
    "baseline_rmse = y=math.sqrt(squared_error_average/len(lst3))\n",
    "\n",
    "plt.plot((1, 200), (baseline_rmse, baseline_rmse), linewidth=0.5, color='r')\n",
    "\n",
    "plt.legend(legend, loc='upper right')\n",
    "plt.savefig('K_selection_9_attributes.png')\n",
    "plt.show()\n",
    "\n",
    "print(\"Minimum RMSE is\",round(min(rmse),3), \"when N is\", [n[i] for i, j in enumerate(rmse) if j == min(rmse)])"
   ]
  },
  {
   "cell_type": "code",
   "execution_count": 28,
   "metadata": {
    "collapsed": false
   },
   "outputs": [
    {
     "data": {
      "text/plain": [
       "<matplotlib.figure.Figure at 0x1b83c313b38>"
      ]
     },
     "metadata": {},
     "output_type": "display_data"
    }
   ],
   "source": [
    "plt.savefig('K_selection_9_attributes.png')"
   ]
  },
  {
   "cell_type": "code",
   "execution_count": 108,
   "metadata": {
    "collapsed": false
   },
   "outputs": [
    {
     "data": {
      "image/png": "[encoded data removed]",
      "text/plain": [
       "<matplotlib.figure.Figure at 0x22dccf3ff98>"
      ]
     },
     "metadata": {},
     "output_type": "display_data"
    },
    {
     "name": "stdout",
     "output_type": "stream",
     "text": [
      "Minimum RMSE is 0.296 when N is [6]\n"
     ]
    }
   ],
   "source": [
    "\"\"\"plot RMSE vs N device models selected for n up to 30\"\"\"\n",
    "import matplotlib.pyplot as plt\n",
    "%matplotlib inline\n",
    "plt.ylabel('RMSE')\n",
    "plt.xlabel('N most similar models')\n",
    "\n",
    "legend = [\"all 9 attributes\"]\n",
    "n = [line[0] for line in RMSE_lst]\n",
    "rmse = [line[1] for line in RMSE_lst]\n",
    "plt.plot(n, rmse)\n",
    "\n",
    "plt.legend(legend, loc='upper right')\n",
    "plt.show()\n",
    "\n",
    "print(\"Minimum RMSE is\",round(min(rmse),3), \"when N is\", [n[i] for i, j in enumerate(rmse) if j == min(rmse)])"
   ]
  },
  {
   "cell_type": "code",
   "execution_count": null,
   "metadata": {
    "collapsed": true
   },
   "outputs": [],
   "source": []
  }
 ],
 "metadata": {
  "anaconda-cloud": {},
  "kernelspec": {
   "display_name": "Python [Root]",
   "language": "python",
   "name": "Python [Root]"
  },
  "language_info": {
   "codemirror_mode": {
    "name": "ipython",
    "version": 3
   },
   "file_extension": ".py",
   "mimetype": "text/x-python",
   "name": "python",
   "nbconvert_exporter": "python",
   "pygments_lexer": "ipython3",
   "version": "3.5.2"
  }
 },
 "nbformat": 4,
 "nbformat_minor": 1
}
