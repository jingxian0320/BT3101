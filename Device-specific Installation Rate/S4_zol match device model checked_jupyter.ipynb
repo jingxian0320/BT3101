{
 "cells": [
  {
   "cell_type": "code",
   "execution_count": null,
   "metadata": {
    "collapsed": true
   },
   "outputs": [],
   "source": [
    "## Script Index: S4\n",
    "## Author: Liu Yue\n",
    "## Date: 03/10/2016\n",
    "## Python Version: Anaconda 4.2.0, python 3.5\n",
    "\n",
    "\"\"\"\n",
    "    This script describes the list of device models found on ZOL\n",
    "\"\"\""
   ]
  },
  {
   "cell_type": "code",
   "execution_count": null,
   "metadata": {
    "collapsed": true
   },
   "outputs": [],
   "source": [
    "#### After Manual Filtering and Accuracy check from S3_zol phone match device model_rough.csv ####"
   ]
  },
  {
   "cell_type": "code",
   "execution_count": 31,
   "metadata": {
    "collapsed": false
   },
   "outputs": [
    {
     "name": "stdout",
     "output_type": "stream",
     "text": [
      "Sample original data [['13', '??', '3', 'X50TS', '??X50TS', '/cell_phone/index376347.shtml'], ['20', '??', '1', 'X10i', '?????X10i', '/cell_phone/index201421.shtml']]\n"
     ]
    }
   ],
   "source": [
    "\"\"\" This is the 'FINAL' data used\n",
    "    906 / 1217 device models are registered with zol (74% device_model)\n",
    "    57506 / 58462 device_id are covered (98% device_id)\n",
    "\"\"\"\n",
    "import csv\n",
    "import re\n",
    "## Load tk data: [[device_model_index, phone_brand, count_device_id, tk_name, zol_name, zol_link], ...]\n",
    "with open('S4_zol phone match device model.csv', newline='', encoding='utf-8-sig') as f:\n",
    "    file = csv.reader(f)\n",
    "    lst_man_added = list(file)\n",
    "print('Sample original data', lst_man_added[:2]) "
   ]
  },
  {
   "cell_type": "code",
   "execution_count": 33,
   "metadata": {
    "collapsed": false
   },
   "outputs": [
    {
     "name": "stdout",
     "output_type": "stream",
     "text": [
      "Precentage of device_model not found: 0.25554642563681185\n",
      "Number of device_model not found: 311\n",
      "Precentage of device_id not found: 0.016352502480243575\n",
      "Number of device_id not found: 956\n",
      "\n",
      "Top device_model not found: [['797', '华为', 'X1 7.0', '56', {'X', '1', '7'}], ['876', '小米', 'MI pad', '38', {'PAD'}], ['741', '华为', '荣耀平板T1-823L', '17', {'L', 'T', '1', '荣耀平板', '823'}], ['784', '华为', 'MediaPad M2-803L', '14', {'2', '803', 'L', 'M', 'MEDIAPAD'}], ['1091', '三星', 'Galaxy Tab S T705C', '13', {'C', 'TAB', 'S', 'GALAXY', 'T', '705'}], ['59', '聆韵', '小苹果', '11', {'小苹果'}], ['8', '百立丰', 'T2', '10', {'2', 'T'}], ['446', '贝尔丰', 'T12', '10', {'T', '12'}], ['833', '天语', 'L820', '10', {'L', '820'}], ['1126', '中兴', 'AxonMini', '10', {'AXONNI'}]]\n"
     ]
    }
   ],
   "source": [
    "lst_man_added=[l for l in lst_man_added if l[0]!='']\n",
    "## Set of device_model_index already found\n",
    "indexes_found = set(l[0] for l in lst_man_added)\n",
    "\n",
    "## Top device_model not found\n",
    "tk_dm_not_found = [x for x in tk_device_models if x[0] not in indexes_found]\n",
    "dm_not_found_top = sorted(tk_dm_not_found, key=lambda line:int(line[3]), reverse=True)\n",
    "\n",
    "print('Precentage of device_model not found:', 1-len(set(indexes_found))/1217)\n",
    "print('Number of device_model not found:', 1217 - len(set(indexes_found)))\n",
    "print('Precentage of device_id not found:', sum([int(x[3]) for x in tk_dm_not_found])/58462)\n",
    "print('Number of device_id not found:', sum([int(x[3]) for x in tk_dm_not_found]))\n",
    "print('\\nTop device_model not found:', dm_not_found_top[:10] )"
   ]
  },
  {
   "cell_type": "code",
   "execution_count": null,
   "metadata": {
    "collapsed": true
   },
   "outputs": [],
   "source": []
  }
 ],
 "metadata": {
  "anaconda-cloud": {},
  "kernelspec": {
   "display_name": "Python [Root]",
   "language": "python",
   "name": "Python [Root]"
  },
  "language_info": {
   "codemirror_mode": {
    "name": "ipython",
    "version": 3
   },
   "file_extension": ".py",
   "mimetype": "text/x-python",
   "name": "python",
   "nbconvert_exporter": "python",
   "pygments_lexer": "ipython3",
   "version": "3.5.2"
  }
 },
 "nbformat": 4,
 "nbformat_minor": 1
}
