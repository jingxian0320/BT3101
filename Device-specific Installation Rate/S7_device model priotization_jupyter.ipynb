{
 "cells": [
  {
   "cell_type": "code",
   "execution_count": null,
   "metadata": {
    "collapsed": true
   },
   "outputs": [],
   "source": [
    "## Script Index: S7\n",
    "## Author: Liu Yue\n",
    "## Date: 10/10/2016\n",
    "## Python Version: Anaconda 4.2.0, python 3.5\n",
    "\n",
    "\"\"\" \n",
    "    This script runs model for devce model prioritization, \n",
    "    by checking the best cut-off for device_id_count \n",
    "    with RMSE for only measuring top device models\n",
    "\"\"\""
   ]
  },
  {
   "cell_type": "code",
   "execution_count": 1,
   "metadata": {
    "collapsed": false
   },
   "outputs": [
    {
     "name": "stdout",
     "output_type": "stream",
     "text": [
      "Total number of devices for all device models: 56865\n",
      "Total number of devices with selected app installed: 38291\n",
      "Weighted average installation rate: 0.673\n"
     ]
    }
   ],
   "source": [
    "import csv\n",
    "import copy\n",
    "import math\n",
    "with open('S6_device model details.csv', newline='',encoding='utf-8') as f:\n",
    "    file = csv.reader(f)\n",
    "    device_model_details = list(file)\n",
    "    \n",
    "for line in device_model_details:\n",
    "    numeric_index = {1,2,3,4,5,6,7,8,9,12,13}\n",
    "    for i in numeric_index:\n",
    "        line[i] = float(line[i])\n",
    "        if int(str(line[i]).split('.')[1])==0:\n",
    "            line[i] = int(line[i])\n",
    "lst = device_model_details\n",
    "\n",
    "lst2 =  copy.deepcopy(lst)\n",
    "total_device_count = sum(line[12] for line in lst2)\n",
    "print(\"Total number of devices for all device models:\",total_device_count)\n",
    "total_app_device_count = sum(line[13] for line in lst2)\n",
    "print(\"Total number of devices with selected app installed:\",total_app_device_count)\n",
    "standard_rate = total_app_device_count/total_device_count\n",
    "print(\"Weighted average installation rate:\", round(standard_rate,3))\n",
    "\n",
    "\"\"\" Select all 9 attributes \"\"\"\n",
    "lst2 = [[line[10:12]]+[line[1:10]]+[line[12:14]] for line in lst2]\n",
    "lst2 = sorted(lst2, key=lambda line:line[2][0],reverse=True)\n",
    "\n",
    "\"\"\" Check device models with the same attributes and merge\"\"\"\n",
    "for line in lst2:\n",
    "    device_model_name = line[0]\n",
    "    for line2 in lst2:\n",
    "        device_model_name2 = line2[0]\n",
    "        if device_model_name!=device_model_name2 and line[1]==line2[1]:\n",
    "            line[0] = device_model_name + device_model_name2\n",
    "            line[2] = [line[2][0]+line2[2][0], line[2][1]+line2[2][1]]\n",
    "            lst2.remove(line2)"
   ]
  },
  {
   "cell_type": "code",
   "execution_count": 5,
   "metadata": {
    "collapsed": false
   },
   "outputs": [
    {
     "name": "stdout",
     "output_type": "stream",
     "text": [
      "Number of possible device_id_count: 181\n"
     ]
    }
   ],
   "source": [
    "\"\"\" list of possible devicd_id_count \"\"\"\n",
    "device_id_count = sorted(list(set(line[2][0] for line in lst2)), key=lambda x:x)\n",
    "print(\"Number of possible device_id_count:\",len(device_id_count))"
   ]
  },
  {
   "cell_type": "code",
   "execution_count": 15,
   "metadata": {
    "collapsed": false
   },
   "outputs": [],
   "source": [
    "\"\"\" Only measuring top device models\"\"\"\n",
    "import math\n",
    "import heapq    \n",
    "import copy\n",
    "result =[]\n",
    "\n",
    "for minminum_device_count in device_id_count[:179]:\n",
    "    \"\"\"\"\"\"\n",
    "    lst3 =  copy.deepcopy(lst2)\n",
    "    lst3 = [line for line in lst3 if line[2][0]>minminum_device_count]\n",
    "    lst3 = sorted(lst3, key=lambda line:line[2][0],reverse=True)\n",
    "\n",
    "    \"\"\" Add installation rate\"\"\"\n",
    "    for line in lst3:\n",
    "        installation_rate = line[2][1]/line[2][0]\n",
    "        line.append([round(standard_rate,3),round(installation_rate,3)])\n",
    "\n",
    "    \"\"\" Compute rmse for using average rate for prediction\"\"\"\n",
    "    squared_error_average = 0\n",
    "    for line in lst3:\n",
    "        average = line[3][0]\n",
    "        actual = line[3][1]\n",
    "        squared_error_average += (average-actual)*(average-actual)\n",
    "    rmse_average = math.sqrt(squared_error_average/len(lst3))\n",
    "\n",
    "    \"\"\" Compute all similarity for divice models \"\"\"\n",
    "    from scipy import spatial\n",
    "    sim_mat = []\n",
    "    for line in lst3:\n",
    "        sim_line = []\n",
    "        for line2 in lst3:\n",
    "            sim = 1 - spatial.distance.cosine(line[1], line2[1])\n",
    "            sim_line.append(sim)\n",
    "        sim_mat.append(sim_line) \n",
    "\n",
    "    def checking_error(lst3, prediction_index):\n",
    "        \"\"\" Method to check the prediction error \"\"\"\n",
    "        count = 0\n",
    "        squared_error_prediction = 0\n",
    "        for line in lst3:\n",
    "            average = line[3][0]\n",
    "            actual = line[3][1]\n",
    "            prediction = line[3][prediction_index+2]\n",
    "            squared_error_prediction += (prediction-actual)*(prediction-actual)\n",
    "            if abs(prediction-actual) < abs(average-actual):\n",
    "                count+=1\n",
    "        return(math.sqrt(squared_error_prediction/len(lst3)))\n",
    "\n",
    "    prediction_index = 0\n",
    "    rmse = []\n",
    "    n = []\n",
    "\n",
    "    for sim_n in range(1,30):  \n",
    "        \"\"\" Find top n similarity \"\"\"\n",
    "        sim_val = [heapq.nlargest(sim_n+1, line) for line in sim_mat]\n",
    "        sim_val = [line[1:] for line in sim_val]\n",
    "\n",
    "        ## Get assignmed index of top N similar device model\n",
    "        sim_name = []\n",
    "        for i in range(0, len(sim_val)):\n",
    "            sim_name.append([lst3[k][0] for k, j in enumerate(sim_mat[i]) if j in sim_val[i]])\n",
    "\n",
    "        for i in range(0, len(lst3)):\n",
    "            line = lst3[i]\n",
    "            names = sim_name[i]\n",
    "            vals = sim_val[i]\n",
    "            id_count_sum = 0\n",
    "            id_count_with_app = 0\n",
    "            for line2 in lst3:       \n",
    "                if line2[0] in names:            \n",
    "                    id_count_sum += line2[2][0]\n",
    "                    id_count_with_app += line2[2][1]\n",
    "            line[3].append(round(id_count_with_app/id_count_sum,3))    \n",
    "        n.append(sim_n)\n",
    "        rmse.append(checking_error(lst3, prediction_index))\n",
    "        prediction_index+=1\n",
    "        \n",
    "    rmse_min = round(min(rmse),3),\n",
    "    n_rmse_min = [n[i] for i, j in enumerate(rmse) if j == min(rmse)]\n",
    "\n",
    "    result.append([minminum_device_count,rmse_average,rmse_min,n_rmse_min])"
   ]
  },
  {
   "cell_type": "code",
   "execution_count": 21,
   "metadata": {
    "collapsed": false
   },
   "outputs": [
    {
     "data": {
      "image/png": "[encoded data removed]",
      "text/plain": [
       "<matplotlib.figure.Figure at 0x25dc3ff14a8>"
      ]
     },
     "metadata": {},
     "output_type": "display_data"
    },
    {
     "name": "stdout",
     "output_type": "stream",
     "text": [
      "Minimum RMSE using all attributes to predict is 0.054 when device count > 1136 for predicting using most [2] similar models\n",
      "RMSE of using all attributes to predict differs the most from RMSE of using average rate to predict when device count > 1136 for predicting using most [2] similar models\n",
      "RMSE is reduces from 0.115 to 0.054\n"
     ]
    }
   ],
   "source": [
    "\"\"\"plot Minimum RMSE vs minminum_device_count\"\"\"\n",
    "import matplotlib.pyplot as plt\n",
    "%matplotlib inline\n",
    "plt.ylabel('RMSE')\n",
    "plt.xlabel('Minminum device count')\n",
    "\n",
    "legend = [\"using 9 attributes\",\"using average rate\",\"difference% wrt average\"]\n",
    "n = [line[3] for line in result]\n",
    "rmse_average = [line[1] for line in result]\n",
    "rmse_attributes = [line[2][0] for line in result]\n",
    "rmse_percentage_difference = [(line[1]-line[2][0])/line[1] for line in result]\n",
    "minminum_device_count = [line[0] for line in result]\n",
    "plt.plot(minminum_device_count, rmse_attributes)\n",
    "plt.plot(minminum_device_count, rmse_average)\n",
    "plt.plot(minminum_device_count, rmse_percentage_difference)\n",
    "\n",
    "plt.legend(legend, loc='lower left')\n",
    "plt.show()\n",
    "print(\"Minimum RMSE using all attributes to predict is\",round(min(rmse_attributes),3), \n",
    "      \"when device count >\", [minminum_device_count[i] for i, j in enumerate(rmse_attributes) if j == min(rmse_attributes)][0],\n",
    "      \"for predicting using most\", [n[i] for i, j in enumerate(rmse_attributes) if j == min(rmse_attributes)][0],\"similar models\")\n",
    "print(\"RMSE of using all attributes to predict differs the most from RMSE of using average rate to predict\",\n",
    "      \"when device count >\", [minminum_device_count[i] for i, j in enumerate(rmse_percentage_difference) if j == max(rmse_percentage_difference)][0],\n",
    "      \"for predicting using most\", [n[i] for i, j in enumerate(rmse_percentage_difference) if j == max(rmse_percentage_difference)][0],\n",
    "      \"similar models\\nRMSE is reduces from\", \n",
    "      round([rmse_average[i] for i, j in enumerate(rmse_percentage_difference) if j == max(rmse_percentage_difference)][0],3),\n",
    "     \"to\", [rmse_attributes[i] for i, j in enumerate(rmse_percentage_difference) if j == max(rmse_percentage_difference)][0])"
   ]
  },
  {
   "cell_type": "code",
   "execution_count": 20,
   "metadata": {
    "collapsed": false
   },
   "outputs": [
    {
     "name": "stdout",
     "output_type": "stream",
     "text": [
      "For Min RMSE, number of top device models considered: 7\n"
     ]
    }
   ],
   "source": [
    "print(\"For Min RMSE, number of top device models considered:\",len([line for line in lst2 if line[2][0]>1136]))"
   ]
  },
  {
   "cell_type": "code",
   "execution_count": 27,
   "metadata": {
    "collapsed": false
   },
   "outputs": [
    {
     "data": {
      "text/plain": [
       "[[['小米', '红米note'], [5.5, 720, 1300, 500, 4, 1, 3100, 14, 650], [2443, 1418]],\n",
       " [['小米', 'MI 4'], [5, 1080, 1300, 800, 4, 3, 3080, 19, 1150], [2232, 1812]],\n",
       " [['三星', 'Galaxy Note 3'],\n",
       "  [5.7, 1080, 1300, 200, 4, 3, 3200, 33, 1100],\n",
       "  [1530, 1152]],\n",
       " [['华为', '荣耀6'], [5, 1080, 1300, 500, 8, 3, 3100, 23, 1250], [1469, 1108]],\n",
       " [['小米', 'MI 3'], [5, 1080, 1300, 200, 4, 2, 3050, 32, 700], [1372, 912]],\n",
       " [['华为', 'Mate 7'], [6, 1080, 1300, 500, 8, 3, 4100, 20, 1600], [1286, 1060]],\n",
       " [['华为', '荣耀畅玩4X'], [5.5, 720, 1300, 500, 8, 2, 3000, 11, 650], [1258, 634]]]"
      ]
     },
     "execution_count": 27,
     "metadata": {},
     "output_type": "execute_result"
    }
   ],
   "source": [
    "[line for line in lst2 if line[2][0]>1136]"
   ]
  },
  {
   "cell_type": "code",
   "execution_count": 28,
   "metadata": {
    "collapsed": false
   },
   "outputs": [
    {
     "data": {
      "text/plain": [
       "11590"
      ]
     },
     "execution_count": 28,
     "metadata": {},
     "output_type": "execute_result"
    }
   ],
   "source": [
    "sum([line[2][0] for line in lst2 if line[2][0]>1136])"
   ]
  },
  {
   "cell_type": "code",
   "execution_count": 14,
   "metadata": {
    "collapsed": false
   },
   "outputs": [
    {
     "data": {
      "image/png": "[encoded data removed]",
      "text/plain": [
       "<matplotlib.figure.Figure at 0x25dc3f5fc88>"
      ]
     },
     "metadata": {},
     "output_type": "display_data"
    }
   ],
   "source": [
    "\"\"\"plot Minimum RMSE vs minminum_device_count\"\"\"\n",
    "import matplotlib.pyplot as plt\n",
    "%matplotlib inline\n",
    "plt.ylabel('RMSE')\n",
    "plt.xlabel('Minminum device count')\n",
    "\n",
    "legend = [\"using 9 attributes\",\"using average rate\"]\n",
    "n = [line[3] for line in result]\n",
    "rmse_average = [line[1] for line in result]\n",
    "rmse_attributes = [line[2][0] for line in result]\n",
    "rmse_percentage_difference = [(line[1]-line[2][0])/line[1] for line in result]\n",
    "minminum_device_count = [line[0] for line in result]\n",
    "plt.plot(minminum_device_count, rmse_attributes)\n",
    "plt.plot(minminum_device_count, rmse_average)\n",
    "\n",
    "plt.legend(legend, loc='best')\n",
    "plt.show()"
   ]
  },
  {
   "cell_type": "code",
   "execution_count": null,
   "metadata": {
    "collapsed": true
   },
   "outputs": [],
   "source": []
  },
  {
   "cell_type": "code",
   "execution_count": 23,
   "metadata": {
    "collapsed": false
   },
   "outputs": [
    {
     "name": "stdout",
     "output_type": "stream",
     "text": [
      "minminum_device_count, rmse_average, rmse_min, n_rmse_min\n"
     ]
    },
    {
     "data": {
      "text/plain": [
       "[[1, 0.29781680549464723, (0.229,), [6]],\n",
       " [2, 0.27077562776967096, (0.208,), [5]],\n",
       " [3, 0.2533660562425092, (0.196,), [5]],\n",
       " [4, 0.24244015286823323, (0.189,), [5]],\n",
       " [5, 0.23542767905835948, (0.186,), [5]],\n",
       " [6, 0.23140533801875918, (0.184,), [6]],\n",
       " [7, 0.22969775477354878, (0.18,), [4]],\n",
       " [8, 0.22278691602122594, (0.178,), [5]],\n",
       " [9, 0.2139280621832341, (0.178,), [4]],\n",
       " [10, 0.2070061519890797, (0.176,), [5]],\n",
       " [11, 0.1982115279146773, (0.174,), [5]],\n",
       " [12, 0.1954103636202804, (0.172,), [4]],\n",
       " [13, 0.1936309103626091, (0.168,), [4]],\n",
       " [14, 0.19237635072290027, (0.166,), [4]],\n",
       " [15, 0.19118059405696472, (0.165,), [3]],\n",
       " [16, 0.18996978317226798, (0.163,), [4]],\n",
       " [17, 0.18963536180453106, (0.161,), [3]],\n",
       " [18, 0.18502865027743012, (0.163,), [4]],\n",
       " [19, 0.18253213931814302, (0.162,), [4]],\n",
       " [20, 0.1767599762936476, (0.16,), [3]],\n",
       " [21, 0.1754635626905514, (0.156,), [3]],\n",
       " [22, 0.17091480055167554, (0.152,), [3]],\n",
       " [23, 0.17059200762203403, (0.151,), [3]],\n",
       " [24, 0.1703504720666583, (0.153,), [3]],\n",
       " [25, 0.17049148363352692, (0.153,), [5]],\n",
       " [26, 0.16853780411619526, (0.152,), [3]],\n",
       " [27, 0.16554314014781765, (0.152,), [3]],\n",
       " [28, 0.16467262089391807, (0.15,), [3]],\n",
       " [29, 0.1632341652169175, (0.147,), [4]],\n",
       " [30, 0.16123103610846234, (0.145,), [4]],\n",
       " [31, 0.1570348770389402, (0.143,), [4]],\n",
       " [34, 0.15327789028586425, (0.14,), [9]],\n",
       " [35, 0.153456818349786, (0.14,), [9]],\n",
       " [36, 0.14943796371739007, (0.138,), [9]],\n",
       " [37, 0.1489630318182496, (0.139,), [4]],\n",
       " [38, 0.1475673356698596, (0.137,), [4]],\n",
       " [39, 0.14696229822116144, (0.136,), [4]],\n",
       " [40, 0.14570042060833258, (0.136,), [4]],\n",
       " [41, 0.14497050126339198, (0.134,), [4]],\n",
       " [42, 0.1449484158010816, (0.135,), [4]],\n",
       " [43, 0.14270189417485982, (0.135,), [8]],\n",
       " [44, 0.14174898491796942, (0.134,), [8]],\n",
       " [45, 0.14175781049437167, (0.133,), [8]],\n",
       " [46, 0.14222643917359387, (0.134,), [8]],\n",
       " [47, 0.14260986891741986, (0.134,), [8]],\n",
       " [49, 0.14126632443227455, (0.133,), [8]],\n",
       " [50, 0.1417147922869775, (0.132,), [8]],\n",
       " [51, 0.14224147392642522, (0.134,), [8]],\n",
       " [52, 0.14258645654605995, (0.133,), [7]],\n",
       " [53, 0.14334694820949487, (0.133,), [7]],\n",
       " [54, 0.1428968159197398, (0.133,), [7]],\n",
       " [55, 0.14262044054802173, (0.133,), [7]],\n",
       " [56, 0.1415580931985169, (0.134,), [7]],\n",
       " [57, 0.14110478556574238, (0.135,), [7]],\n",
       " [58, 0.1393491510466996, (0.134,), [13]],\n",
       " [59, 0.13913228312578002, (0.134,), [7]],\n",
       " [62, 0.13880856239246933, (0.134,), [7]],\n",
       " [63, 0.13904373031675088, (0.134,), [7]],\n",
       " [64, 0.1395872631254214, (0.134,), [7]],\n",
       " [65, 0.13939979933290456, (0.134,), [6]],\n",
       " [66, 0.13946157396302716, (0.134,), [6]],\n",
       " [67, 0.13914319518799073, (0.134,), [6]],\n",
       " [68, 0.13961417278120195, (0.135,), [6]],\n",
       " [69, 0.1380325538251501, (0.135,), [12]],\n",
       " [70, 0.13751389355983568, (0.135,), [12]],\n",
       " [71, 0.13481519096261263, (0.132,), [11]],\n",
       " [73, 0.13525010139758695, (0.132,), [11]],\n",
       " [74, 0.13573242005899866, (0.132,), [11]],\n",
       " [77, 0.1366783471813853, (0.132,), [10]],\n",
       " [78, 0.1359347681574874, (0.132,), [11]],\n",
       " [80, 0.13608630057065818, (0.132,), [11]],\n",
       " [81, 0.13447761526601218, (0.13,), [10]],\n",
       " [82, 0.1348946312440252, (0.13,), [10]],\n",
       " [83, 0.13351560703840823, (0.13,), [9]],\n",
       " [85, 0.1340016287510585, (0.132,), [9]],\n",
       " [86, 0.13395888873444622, (0.132,), [9]],\n",
       " [87, 0.13069490553703053, (0.129,), [10]],\n",
       " [89, 0.12850327792307398, (0.127,), [9]],\n",
       " [91, 0.12866258130886318, (0.127,), [9]],\n",
       " [92, 0.1292012597355048, (0.128,), [9]],\n",
       " [93, 0.1293359558424656, (0.127,), [29]],\n",
       " [94, 0.12917889084795536, (0.128,), [12]],\n",
       " [95, 0.12822803348499334, (0.126,), [12]],\n",
       " [98, 0.12613188436018966, (0.122,), [12]],\n",
       " [99, 0.1267033399861123, (0.122,), [10]],\n",
       " [100, 0.12724396851299388, (0.122,), [10]],\n",
       " [102, 0.12752479787897755, (0.122,), [9]],\n",
       " [104, 0.12808864483075555, (0.123,), [9]],\n",
       " [105, 0.12411925908653529, (0.118,), [9]],\n",
       " [106, 0.12457570296502753, (0.118,), [8]],\n",
       " [107, 0.12265935280965397, (0.115,), [8]],\n",
       " [110, 0.12251861083117127, (0.115,), [8]],\n",
       " [111, 0.12275725410069839, (0.115,), [8]],\n",
       " [112, 0.12295100235293664, (0.115,), [8]],\n",
       " [113, 0.12346145940641916, (0.115,), [8]],\n",
       " [116, 0.12407658925034971, (0.116,), [8]],\n",
       " [117, 0.1242618203632958, (0.117,), [8]],\n",
       " [119, 0.12141322091422314, (0.115,), [8]],\n",
       " [122, 0.12203886213402573, (0.115,), [8]],\n",
       " [124, 0.12171299991301704, (0.114,), [6]],\n",
       " [125, 0.1211213178031581, (0.114,), [6]],\n",
       " [126, 0.12168278432054387, (0.115,), [8]],\n",
       " [129, 0.12217898569498169, (0.114,), [6]],\n",
       " [132, 0.1221810414776029, (0.115,), [6]],\n",
       " [134, 0.12275130842858756, (0.114,), [6]],\n",
       " [136, 0.12052966439843761, (0.112,), [6]],\n",
       " [139, 0.12026498520627965, (0.112,), [6]],\n",
       " [140, 0.12118535490686339, (0.113,), [6]],\n",
       " [141, 0.12192787789265998, (0.113,), [6]],\n",
       " [142, 0.12263859506696902, (0.115,), [6]],\n",
       " [146, 0.12260841237374426, (0.113,), [6]],\n",
       " [151, 0.12261750540432204, (0.114,), [5]],\n",
       " [155, 0.12326275458007038, (0.115,), [5]],\n",
       " [159, 0.12409085599084461, (0.116,), [29]],\n",
       " [170, 0.12330281153863983, (0.115,), [5]],\n",
       " [173, 0.12415534340403817, (0.115,), [27]],\n",
       " [177, 0.12405482658889172, (0.113,), [27]],\n",
       " [180, 0.12494218953034911, (0.114,), [27]],\n",
       " [184, 0.12405543115881706, (0.114,), [27]],\n",
       " [194, 0.12319860194981135, (0.112,), [26]],\n",
       " [196, 0.12257576506723579, (0.112,), [26]],\n",
       " [204, 0.12286540478225631, (0.113,), [25]],\n",
       " [210, 0.1203022648192249, (0.111,), [25]],\n",
       " [224, 0.12146962110939104, (0.111,), [23]],\n",
       " [228, 0.12072330622819549, (0.111,), [23]],\n",
       " [230, 0.12132866136159506, (0.111,), [25]],\n",
       " [236, 0.12326465608030751, (0.113,), [23]],\n",
       " [248, 0.12206438582041154, (0.113,), [24]],\n",
       " [258, 0.12126484913759485, (0.113,), [24]],\n",
       " [264, 0.12260798090308835, (0.114,), [22]],\n",
       " [272, 0.12283776041842909, (0.115,), [22]],\n",
       " [283, 0.12397857183606288, (0.116,), [21]],\n",
       " [286, 0.12281652152370899, (0.112,), [21]],\n",
       " [290, 0.11528831611804091, (0.103,), [20]],\n",
       " [291, 0.11309222371069456, (0.097,), [20]],\n",
       " [296, 0.11191602053403218, (0.097,), [19]],\n",
       " [298, 0.11182357135734447, (0.097,), [18]],\n",
       " [308, 0.1128791286040896, (0.097,), [17]],\n",
       " [310, 0.11340498435338049, (0.098,), [16]],\n",
       " [317, 0.11437049338049372, (0.098,), [16]],\n",
       " [322, 0.11029233880918474, (0.092,), [18]],\n",
       " [346, 0.11153152940438883, (0.093,), [18]],\n",
       " [351, 0.11132822501149708, (0.094,), [16]],\n",
       " [360, 0.11077991329293044, (0.095,), [18]],\n",
       " [386, 0.11197308704426354, (0.096,), [18]],\n",
       " [413, 0.11213907181964466, (0.096,), [17]],\n",
       " [417, 0.11236953219047359, (0.097,), [17]],\n",
       " [431, 0.11361164579657342, (0.097,), [16]],\n",
       " [513, 0.1145248335515053, (0.098,), [16]],\n",
       " [518, 0.11360798472619953, (0.097,), [13]],\n",
       " [523, 0.11309671377483371, (0.097,), [14]],\n",
       " [535, 0.11187893703340292, (0.098,), [14]],\n",
       " [555, 0.1071337615186868, (0.097,), [14]],\n",
       " [561, 0.106457781581523, (0.099,), [14]],\n",
       " [571, 0.10631918561938493, (0.1,), [14]],\n",
       " [579, 0.10604319874466255, (0.1,), [13]],\n",
       " [614, 0.10785657915336767, (0.103,), [13]],\n",
       " [632, 0.1032026288846154, (0.102,), [13]],\n",
       " [637, 0.10283415598118961, (0.097,), [4]],\n",
       " [640, 0.09996332660864515, (0.095,), [4]],\n",
       " [685, 0.09897524943136035, (0.097,), [4]],\n",
       " [724, 0.1010203210406594, (0.098,), [3]],\n",
       " [731, 0.10272076496772965, (0.103,), [9]],\n",
       " [762, 0.10181846590869457, (0.099,), [7]],\n",
       " [768, 0.10471837231355345, (0.103,), [7]],\n",
       " [814, 0.10521280023520585, (0.107,), [6]],\n",
       " [822, 0.1085478827851693, (0.108,), [8]],\n",
       " [833, 0.11225006424531311, (0.112,), [5]],\n",
       " [848, 0.11683036135069227, (0.116,), [5]],\n",
       " [919, 0.12126867241415198, (0.121,), [4]],\n",
       " [995, 0.12014283166298352, (0.087,), [1]],\n",
       " [1089, 0.12644805696850825, (0.081,), [1]],\n",
       " [1121, 0.11215948466358072, (0.073,), [1]],\n",
       " [1136, 0.11486451646551751, (0.054,), [2]],\n",
       " [1258, 0.10311482273013257, (0.066,), [2]],\n",
       " [1286, 0.09054832963671942, (0.066,), [1]],\n",
       " [1372, 0.10115705610583971, (0.096,), [1]],\n",
       " [1469, 0.1070358195496567, (0.111,), [1]],\n",
       " [1530,\n",
       "  0.11825819210524069,\n",
       "  (0.232,),\n",
       "  [1,\n",
       "   2,\n",
       "   3,\n",
       "   4,\n",
       "   5,\n",
       "   6,\n",
       "   7,\n",
       "   8,\n",
       "   9,\n",
       "   10,\n",
       "   11,\n",
       "   12,\n",
       "   13,\n",
       "   14,\n",
       "   15,\n",
       "   16,\n",
       "   17,\n",
       "   18,\n",
       "   19,\n",
       "   20,\n",
       "   21,\n",
       "   22,\n",
       "   23,\n",
       "   24,\n",
       "   25,\n",
       "   26,\n",
       "   27,\n",
       "   28,\n",
       "   29]]]"
      ]
     },
     "execution_count": 23,
     "metadata": {},
     "output_type": "execute_result"
    }
   ],
   "source": [
    "print(\"minminum_device_count, rmse_average, rmse_min, n_rmse_min\")\n",
    "result"
   ]
  },
  {
   "cell_type": "code",
   "execution_count": null,
   "metadata": {
    "collapsed": true
   },
   "outputs": [],
   "source": []
  }
 ],
 "metadata": {
  "anaconda-cloud": {},
  "kernelspec": {
   "display_name": "Python [Root]",
   "language": "python",
   "name": "Python [Root]"
  },
  "language_info": {
   "codemirror_mode": {
    "name": "ipython",
    "version": 3
   },
   "file_extension": ".py",
   "mimetype": "text/x-python",
   "name": "python",
   "nbconvert_exporter": "python",
   "pygments_lexer": "ipython3",
   "version": "3.5.2"
  }
 },
 "nbformat": 4,
 "nbformat_minor": 1
}
